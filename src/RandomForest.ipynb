{
 "cells": [
  {
   "cell_type": "code",
   "execution_count": 1,
   "metadata": {},
   "outputs": [],
   "source": [
    "from sklearn import svm\n",
    "import numpy as np\n",
    "import matplotlib.pyplot as plt\n",
    "import matplotlib\n",
    "import sklearn\n",
    "from sklearn.model_selection import train_test_split\n",
    "import pandas as pd\n",
    "import os\n",
    "import random\n",
    "from sklearn.model_selection import StratifiedShuffleSplit \n",
    "from sklearn.preprocessing import OneHotEncoder"
   ]
  },
  {
   "cell_type": "code",
   "execution_count": 2,
   "metadata": {},
   "outputs": [],
   "source": [
    "csv_path = '../gen_data/dynamic_features.csv'\n",
    "column_name = ['A_pos_peak_time', 'MAX_pos_peak_time', 'MIN_pos_peak_time', 'A_neg_peak_time', 'MAX_neg_peak_time', 'MIN_neg_peak_time',\n",
    " 'A_close time', 'MAX_close time', 'MIN_close time', 'A_open time', 'MAX_open time', 'MIN_open time', 'A_blink time', \n",
    " 'MAX_blink time', 'MIN_blink time', 'A_peak ratio', 'MAX_peak ratio', 'MIN_peak ratio', 'A_peak dist ratio', 'MAX_peak dist ratio', \n",
    " 'MIN_peak dist ratio', 'A_area ratio', 'MAX_area ratio', 'MIN_area ratio', 'Label']\n",
    "data = pd.read_csv(csv_path)\n",
    "data.head()\n",
    "from sklearn.model_selection import StratifiedShuffleSplit \n",
    "split = StratifiedShuffleSplit(n_splits=1, test_size=0.2, random_state=25)\n",
    "for train_index, test_index in split.split(data, data[\"Label\"]): \n",
    "    strat_train_set = data.loc[train_index] \n",
    "    strat_test_set = data.loc[test_index]\n",
    "strat_train_set = np.array(strat_train_set)\n",
    "strat_test_set = np.array(strat_test_set)\n",
    "train_data,train_label = np.split(strat_train_set,indices_or_sections=(24,),axis=1) #x为数据，y为标签  前24个为特征，最后一个为标签\n",
    "test_data, test_label = np.split(strat_test_set,indices_or_sections=(24,),axis=1) #x为数据，y为标签  前24个为特征，最后一个为标签"
   ]
  },
  {
   "cell_type": "code",
   "execution_count": 3,
   "metadata": {},
   "outputs": [],
   "source": [
    "# encoder = OneHotEncoder()\n",
    "# # print(train_label.reshape(-1,))\n",
    "# train_label_ = encoder.fit_transform(train_label.reshape(-1,1))\n",
    "# train_label = np.array(train_label_.toarray())\n",
    "\n",
    "# test_label_ = encoder.fit_transform(test_label.reshape(-1,1))\n",
    "# test_label = np.array(test_label_.toarray())"
   ]
  },
  {
   "cell_type": "code",
   "execution_count": 4,
   "metadata": {},
   "outputs": [
    {
     "data": {
      "text/plain": [
       "RandomForestClassifier(bootstrap=True, class_weight=None, criterion='gini',\n",
       "            max_depth=None, max_features='auto', max_leaf_nodes=16,\n",
       "            min_impurity_decrease=0.0, min_impurity_split=None,\n",
       "            min_samples_leaf=1, min_samples_split=2,\n",
       "            min_weight_fraction_leaf=0.0, n_estimators=1000, n_jobs=-1,\n",
       "            oob_score=False, random_state=None, verbose=0,\n",
       "            warm_start=False)"
      ]
     },
     "execution_count": 4,
     "metadata": {},
     "output_type": "execute_result"
    }
   ],
   "source": [
    "from sklearn.ensemble import RandomForestClassifier \n",
    "rnd_clf = RandomForestClassifier(n_estimators=1000, max_leaf_nodes=16, n_jobs=-1) \n",
    "rnd_clf.fit(train_data, train_label.ravel()) \n",
    "# y_pred_rf = rnd_clf.predict(test_data)\n",
    "# print(y_pred_rf)"
   ]
  },
  {
   "cell_type": "code",
   "execution_count": 5,
   "metadata": {},
   "outputs": [
    {
     "name": "stdout",
     "output_type": "stream",
     "text": [
      "A_pos_peak_time 0.06222577512472765\n",
      "MAX_pos_peak_time 0.038672465161026\n",
      "MIN_pos_peak_time 0.027792567872275756\n",
      "A_neg_peak_time 0.05692419771949059\n",
      "MAX_neg_peak_time 0.03315098618933705\n",
      "MIN_neg_peak_time 0.050356425335789164\n",
      "A_close time 0.07246755877762806\n",
      "MAX_close time 0.10545969604385516\n",
      "MIN_close time 0.0178221404743176\n",
      "A_open time 0.03178123589762521\n",
      "MAX_open time 0.01652836117694438\n",
      "MIN_open time 0.041384177023839015\n",
      "A_blink time 0.021254417026227268\n",
      "MAX_blink time 0.051099059240022955\n",
      "MIN_blink time 0.04498905426501659\n",
      "A_peak ratio 0.08554463949125667\n",
      "MAX_peak ratio 0.03627318106447055\n",
      "MIN_peak ratio 0.019404315995238675\n",
      "A_peak dist ratio 0.025073669460515216\n",
      "MAX_peak dist ratio 0.029710849447726194\n",
      "MIN_peak dist ratio 0.023969517342375027\n",
      "A_area ratio 0.025229151696970164\n",
      "MAX_area ratio 0.03707481619381339\n",
      "MIN_area ratio 0.0458117419795115\n"
     ]
    }
   ],
   "source": [
    "for name, score in zip(column_name, rnd_clf.feature_importances_):\n",
    "    print(name, score)\n",
    "# print(rnd_clf.feature_importances_)"
   ]
  },
  {
   "cell_type": "code",
   "execution_count": 6,
   "metadata": {},
   "outputs": [
    {
     "name": "stdout",
     "output_type": "stream",
     "text": [
      "训练集： 0.9238095238095239\n",
      "测试集： 0.7735849056603774\n"
     ]
    }
   ],
   "source": [
    "#也可直接调用accuracy_score方法计算准确率  \n",
    "from sklearn.metrics import accuracy_score\n",
    "tra_label = rnd_clf.predict(train_data) # 训练集的预测标签\n",
    "tes_label = rnd_clf.predict(test_data) # 测试集的预测标签 \n",
    "print(\"训练集：\",  accuracy_score(train_label,tra_label))\n",
    "print(\"测试集：\", accuracy_score(test_label,tes_label))"
   ]
  },
  {
   "cell_type": "code",
   "execution_count": 7,
   "metadata": {},
   "outputs": [
    {
     "name": "stdout",
     "output_type": "stream",
     "text": [
      "[2. 5. 6. 1. 2. 5. 1. 0. 2. 4. 8. 0. 1. 0. 0. 2. 7. 0. 1. 1. 3. 9. 8. 2.\n",
      " 9. 8. 1. 1. 0. 6. 5. 7. 0. 0. 1. 2. 8. 1. 0. 8. 1. 5. 9. 4. 1. 8. 0. 1.\n",
      " 6. 2. 1. 9. 1.]\n"
     ]
    }
   ],
   "source": [
    "print(tes_label)"
   ]
  },
  {
   "cell_type": "code",
   "execution_count": null,
   "metadata": {},
   "outputs": [],
   "source": []
  }
 ],
 "metadata": {
  "kernelspec": {
   "display_name": "python3.6",
   "language": "python",
   "name": "python3.6"
  },
  "language_info": {
   "codemirror_mode": {
    "name": "ipython",
    "version": 3
   },
   "file_extension": ".py",
   "mimetype": "text/x-python",
   "name": "python",
   "nbconvert_exporter": "python",
   "pygments_lexer": "ipython3",
   "version": "3.6.0"
  }
 },
 "nbformat": 4,
 "nbformat_minor": 2
}
