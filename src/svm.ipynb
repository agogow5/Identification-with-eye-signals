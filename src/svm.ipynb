{
 "cells": [
  {
   "cell_type": "code",
   "execution_count": 1,
   "metadata": {},
   "outputs": [],
   "source": [
    "from sklearn import svm\n",
    "import numpy as np\n",
    "import matplotlib.pyplot as plt\n",
    "import matplotlib\n",
    "import sklearn\n",
    "from sklearn.model_selection import train_test_split\n",
    "import pandas as pd\n",
    "import os\n",
    "import random"
   ]
  },
  {
   "cell_type": "code",
   "execution_count": 2,
   "metadata": {},
   "outputs": [],
   "source": [
    "#define converts(字典)  \n",
    "# def Name_label(s):\n",
    "#     it = {b'cjn':10, b'lmx':20, b'yxd':30, b'zzy':40 }\n",
    "#     return it[s]\n",
    "\n",
    "def Name_label(s):\n",
    "    return int(s) - 1"
   ]
  },
  {
   "cell_type": "code",
   "execution_count": 3,
   "metadata": {},
   "outputs": [],
   "source": [
    "# #1.读取数据集\n",
    "# import import_ipynb # 为了import ipynb文件特地安装的库\n",
    "# from utils import svm_data_gen\n",
    "# name = \"dynamic_feature-2-26\" # 更换不同数据只需要修改name的参数即可，其它变量无需改动\n",
    "# data_name = name + \".data\"\n",
    "# data_path = '../gen_data/' + data_name\n",
    "# filePath = '../raw_data/' + name + '/'\n",
    "\n",
    "# try:\n",
    "#     data = np.loadtxt(data_path, dtype=float, delimiter=',', converters={24:Name_label})\n",
    "# #     converters={4:Iris_label}中“24”指的是第25列：将第25列的str转化为label(number)\n",
    "# except IOError as err:  #使用as将异常对象，并将其赋值给一个标识符\n",
    "#     print('File Error:'+str(err)) #‘+’用于字符串直接的连接\n",
    "#     print(\"正在从csv生成.data数据中\")\n",
    "    \n",
    "#     # 从csv数据转换成.data的txt数据\n",
    "#     svm_data_gen(filePath, data_name)\n",
    "#     data = np.loadtxt(data_path, dtype=float, delimiter=',', converters={24:Name_label})\n",
    "#     print(\"生成数据完毕！\")\n",
    "\n",
    "# print(\"加载数据完毕！\")\n",
    "# print(\"data shape: \", data.shape)"
   ]
  },
  {
   "cell_type": "code",
   "execution_count": 4,
   "metadata": {},
   "outputs": [],
   "source": [
    "# PCA 降维处理  可选\n",
    "# 训练集： 1.0\n",
    "# 测试集： 0.538461538461538\n",
    "# 使用PCA的时候，需要修改下面划分数据与标签\n",
    "\n",
    "# from sklearn.decomposition import PCA\n",
    "# pca = PCA(n_components='mle') # 降维由算法自选\n",
    "# label_data = data[:, -1:]\n",
    "# print(\"label_data shape: \", label_data.shape)\n",
    "# data = data[:, :-1]\n",
    "# data = pca.fit_transform(data)\n",
    "# print(\"data shape: \", data.shape)\n",
    "# data = np.concatenate((data, label_data), axis=1)\n",
    "# print(\"pca data shape: \", data.shape)"
   ]
  },
  {
   "cell_type": "code",
   "execution_count": 5,
   "metadata": {},
   "outputs": [],
   "source": [
    "# #2.划分数据与标签\n",
    "# x, y = np.split(data,indices_or_sections=(24,),axis=1) #x为数据，y为标签  前24个为特征，最后一个为标签\n",
    "# # x = x[:, ::3] # 只取8个特征， 目前效果看起来与24个特征差不多\n",
    "# print(\"data size: \", x.shape)\n",
    "# random.seed(42) # 指定随机数种子，确保每次划分结果一致\n",
    "# train_data,test_data,train_label,test_label = train_test_split(x, y, random_state=1, train_size=0.8, test_size=0.2) #sklearn.model_selection.  \n",
    "# print(\"train data sgape: \", train_data.shape)"
   ]
  },
  {
   "cell_type": "code",
   "execution_count": 6,
   "metadata": {},
   "outputs": [
    {
     "data": {
      "text/html": [
       "<div>\n",
       "<style scoped>\n",
       "    .dataframe tbody tr th:only-of-type {\n",
       "        vertical-align: middle;\n",
       "    }\n",
       "\n",
       "    .dataframe tbody tr th {\n",
       "        vertical-align: top;\n",
       "    }\n",
       "\n",
       "    .dataframe thead th {\n",
       "        text-align: right;\n",
       "    }\n",
       "</style>\n",
       "<table border=\"1\" class=\"dataframe\">\n",
       "  <thead>\n",
       "    <tr style=\"text-align: right;\">\n",
       "      <th></th>\n",
       "      <th>A_pos_peak_time</th>\n",
       "      <th>MAX_pos_peak_time</th>\n",
       "      <th>MIN_pos_peak_time</th>\n",
       "      <th>A_neg_peak_time</th>\n",
       "      <th>MAX_neg_peak_time</th>\n",
       "      <th>MIN_neg_peak_time</th>\n",
       "      <th>A_close time</th>\n",
       "      <th>MAX_close time</th>\n",
       "      <th>MIN_close time</th>\n",
       "      <th>A_open time</th>\n",
       "      <th>...</th>\n",
       "      <th>A_peak ratio</th>\n",
       "      <th>MAX_peak ratio</th>\n",
       "      <th>MIN_peak ratio</th>\n",
       "      <th>A_peak dist ratio</th>\n",
       "      <th>MAX_peak dist ratio</th>\n",
       "      <th>MIN_peak dist ratio</th>\n",
       "      <th>A_area ratio</th>\n",
       "      <th>MAX_area ratio</th>\n",
       "      <th>MIN_area ratio</th>\n",
       "      <th>Label</th>\n",
       "    </tr>\n",
       "  </thead>\n",
       "  <tbody>\n",
       "    <tr>\n",
       "      <th>0</th>\n",
       "      <td>36.8</td>\n",
       "      <td>49.2</td>\n",
       "      <td>71.2</td>\n",
       "      <td>146.8</td>\n",
       "      <td>218.0</td>\n",
       "      <td>2.78</td>\n",
       "      <td>0.38</td>\n",
       "      <td>1.24</td>\n",
       "      <td>44.0</td>\n",
       "      <td>58.0</td>\n",
       "      <td>...</td>\n",
       "      <td>1.46</td>\n",
       "      <td>34.0</td>\n",
       "      <td>38.0</td>\n",
       "      <td>68.0</td>\n",
       "      <td>134.0</td>\n",
       "      <td>204.0</td>\n",
       "      <td>2.20</td>\n",
       "      <td>0.34</td>\n",
       "      <td>1.06</td>\n",
       "      <td>0.0</td>\n",
       "    </tr>\n",
       "    <tr>\n",
       "      <th>1</th>\n",
       "      <td>38.4</td>\n",
       "      <td>47.6</td>\n",
       "      <td>78.8</td>\n",
       "      <td>172.8</td>\n",
       "      <td>251.6</td>\n",
       "      <td>2.38</td>\n",
       "      <td>0.35</td>\n",
       "      <td>1.05</td>\n",
       "      <td>50.0</td>\n",
       "      <td>56.0</td>\n",
       "      <td>...</td>\n",
       "      <td>1.28</td>\n",
       "      <td>32.0</td>\n",
       "      <td>38.0</td>\n",
       "      <td>70.0</td>\n",
       "      <td>156.0</td>\n",
       "      <td>228.0</td>\n",
       "      <td>0.90</td>\n",
       "      <td>0.25</td>\n",
       "      <td>0.60</td>\n",
       "      <td>0.0</td>\n",
       "    </tr>\n",
       "    <tr>\n",
       "      <th>2</th>\n",
       "      <td>37.2</td>\n",
       "      <td>52.0</td>\n",
       "      <td>81.2</td>\n",
       "      <td>157.2</td>\n",
       "      <td>238.4</td>\n",
       "      <td>2.47</td>\n",
       "      <td>0.40</td>\n",
       "      <td>1.09</td>\n",
       "      <td>54.0</td>\n",
       "      <td>68.0</td>\n",
       "      <td>...</td>\n",
       "      <td>1.25</td>\n",
       "      <td>32.0</td>\n",
       "      <td>44.0</td>\n",
       "      <td>66.0</td>\n",
       "      <td>152.0</td>\n",
       "      <td>222.0</td>\n",
       "      <td>2.33</td>\n",
       "      <td>0.34</td>\n",
       "      <td>1.02</td>\n",
       "      <td>0.0</td>\n",
       "    </tr>\n",
       "    <tr>\n",
       "      <th>3</th>\n",
       "      <td>33.6</td>\n",
       "      <td>47.6</td>\n",
       "      <td>74.4</td>\n",
       "      <td>159.6</td>\n",
       "      <td>234.0</td>\n",
       "      <td>2.63</td>\n",
       "      <td>0.38</td>\n",
       "      <td>1.15</td>\n",
       "      <td>36.0</td>\n",
       "      <td>58.0</td>\n",
       "      <td>...</td>\n",
       "      <td>1.25</td>\n",
       "      <td>30.0</td>\n",
       "      <td>40.0</td>\n",
       "      <td>68.0</td>\n",
       "      <td>148.0</td>\n",
       "      <td>222.0</td>\n",
       "      <td>2.46</td>\n",
       "      <td>0.33</td>\n",
       "      <td>1.08</td>\n",
       "      <td>0.0</td>\n",
       "    </tr>\n",
       "    <tr>\n",
       "      <th>4</th>\n",
       "      <td>35.2</td>\n",
       "      <td>48.8</td>\n",
       "      <td>76.8</td>\n",
       "      <td>156.0</td>\n",
       "      <td>232.8</td>\n",
       "      <td>2.65</td>\n",
       "      <td>0.39</td>\n",
       "      <td>1.12</td>\n",
       "      <td>42.0</td>\n",
       "      <td>58.0</td>\n",
       "      <td>...</td>\n",
       "      <td>1.23</td>\n",
       "      <td>32.0</td>\n",
       "      <td>40.0</td>\n",
       "      <td>70.0</td>\n",
       "      <td>150.0</td>\n",
       "      <td>224.0</td>\n",
       "      <td>2.42</td>\n",
       "      <td>0.35</td>\n",
       "      <td>1.01</td>\n",
       "      <td>0.0</td>\n",
       "    </tr>\n",
       "  </tbody>\n",
       "</table>\n",
       "<p>5 rows × 25 columns</p>\n",
       "</div>"
      ],
      "text/plain": [
       "   A_pos_peak_time  MAX_pos_peak_time  MIN_pos_peak_time  A_neg_peak_time  \\\n",
       "0             36.8               49.2               71.2            146.8   \n",
       "1             38.4               47.6               78.8            172.8   \n",
       "2             37.2               52.0               81.2            157.2   \n",
       "3             33.6               47.6               74.4            159.6   \n",
       "4             35.2               48.8               76.8            156.0   \n",
       "\n",
       "   MAX_neg_peak_time  MIN_neg_peak_time  A_close time  MAX_close time  \\\n",
       "0              218.0               2.78          0.38            1.24   \n",
       "1              251.6               2.38          0.35            1.05   \n",
       "2              238.4               2.47          0.40            1.09   \n",
       "3              234.0               2.63          0.38            1.15   \n",
       "4              232.8               2.65          0.39            1.12   \n",
       "\n",
       "   MIN_close time  A_open time  ...  A_peak ratio  MAX_peak ratio  \\\n",
       "0            44.0         58.0  ...          1.46            34.0   \n",
       "1            50.0         56.0  ...          1.28            32.0   \n",
       "2            54.0         68.0  ...          1.25            32.0   \n",
       "3            36.0         58.0  ...          1.25            30.0   \n",
       "4            42.0         58.0  ...          1.23            32.0   \n",
       "\n",
       "   MIN_peak ratio  A_peak dist ratio  MAX_peak dist ratio  \\\n",
       "0            38.0               68.0                134.0   \n",
       "1            38.0               70.0                156.0   \n",
       "2            44.0               66.0                152.0   \n",
       "3            40.0               68.0                148.0   \n",
       "4            40.0               70.0                150.0   \n",
       "\n",
       "   MIN_peak dist ratio  A_area ratio  MAX_area ratio  MIN_area ratio  Label  \n",
       "0                204.0          2.20            0.34            1.06    0.0  \n",
       "1                228.0          0.90            0.25            0.60    0.0  \n",
       "2                222.0          2.33            0.34            1.02    0.0  \n",
       "3                222.0          2.46            0.33            1.08    0.0  \n",
       "4                224.0          2.42            0.35            1.01    0.0  \n",
       "\n",
       "[5 rows x 25 columns]"
      ]
     },
     "execution_count": 6,
     "metadata": {},
     "output_type": "execute_result"
    }
   ],
   "source": [
    "csv_path = '../gen_data/dynamic_features.csv'\n",
    "column_name = ['A_pos_peak_time', 'MAX_pos_peak_time', 'MIN_pos_peak_time', 'A_neg_peak_time', 'MAX_neg_peak_time', 'MIN_neg_peak_time',\n",
    " 'A_close time', 'MAX_close time', 'MIN_close time', 'A_open time', 'MAX_open time', 'MIN_open time', 'A_blink time', \n",
    " 'MAX_blink time', 'MIN_blink time', 'A_peak ratio', 'MAX_peak ratio', 'MIN_peak ratio', 'A_peak dist ratio', 'MAX_peak dist ratio', \n",
    " 'MIN_peak dist ratio', 'A_area ratio', 'MAX_area ratio', 'MIN_area ratio', 'Label']\n",
    "data = pd.read_csv(csv_path)\n",
    "data.head()"
   ]
  },
  {
   "cell_type": "markdown",
   "metadata": {},
   "source": [
    "# 分层采样"
   ]
  },
  {
   "cell_type": "code",
   "execution_count": 7,
   "metadata": {},
   "outputs": [
    {
     "name": "stdout",
     "output_type": "stream",
     "text": [
      "210\n",
      "53\n",
      "263\n"
     ]
    }
   ],
   "source": [
    "from sklearn.model_selection import StratifiedShuffleSplit \n",
    "split = StratifiedShuffleSplit(n_splits=1, test_size=0.2, random_state=25)\n",
    "for train_index, test_index in split.split(data, data[\"Label\"]): \n",
    "    strat_train_set = data.loc[train_index] \n",
    "    strat_test_set = data.loc[test_index]\n",
    "# train_index, test_index = split.split(data, data[\"Label\"])\n",
    "print(len(strat_train_set))\n",
    "print(len(strat_test_set))\n",
    "print(len(data))"
   ]
  },
  {
   "cell_type": "code",
   "execution_count": 8,
   "metadata": {},
   "outputs": [],
   "source": [
    "strat_train_set = np.array(strat_train_set)\n",
    "strat_test_set = np.array(strat_test_set)\n",
    "train_data,train_label = np.split(strat_train_set,indices_or_sections=(24,),axis=1) #x为数据，y为标签  前24个为特征，最后一个为标签\n",
    "test_data, test_label = np.split(strat_test_set,indices_or_sections=(24,),axis=1) #x为数据，y为标签  前24个为特征，最后一个为标签"
   ]
  },
  {
   "cell_type": "markdown",
   "metadata": {},
   "source": [
    "# 训练"
   ]
  },
  {
   "cell_type": "code",
   "execution_count": 9,
   "metadata": {},
   "outputs": [
    {
     "data": {
      "text/plain": [
       "SVC(C=2, cache_size=200, class_weight=None, coef0=0.0,\n",
       "  decision_function_shape='ovo', degree=2, gamma='auto', kernel='poly',\n",
       "  max_iter=-1, probability=False, random_state=None, shrinking=True,\n",
       "  tol=0.001, verbose=False)"
      ]
     },
     "execution_count": 9,
     "metadata": {},
     "output_type": "execute_result"
    }
   ],
   "source": [
    "#3.训练svm分类器\n",
    "# ==========F:1\n",
    "# 训练 1.0\n",
    "# 测试 0.69\n",
    "# classifier = svm.SVC(C=2, kernel='rbf', gamma=10, decision_function_shape='ovo') # ovr:一对多策略  尽量使用ovo比较好\n",
    "# classifier.fit(train_data,train_label.ravel()) # ravel函数在降维时默认是行序优先\n",
    "\n",
    "# ==========F:2\n",
    "# 训练 1.0\n",
    "# 测试 0.76\n",
    "classifier = svm.SVC(C=2, kernel='poly', degree=2, gamma='auto', decision_function_shape='ovo') # ovr:一对多策略  尽量使用ovo比较好\n",
    "classifier.fit(train_data,train_label.ravel()) # ravel函数在降维时默认是行序优先\n"
   ]
  },
  {
   "cell_type": "code",
   "execution_count": 10,
   "metadata": {},
   "outputs": [],
   "source": [
    "# #4.计算svc分类器的准确率  \n",
    "# print(\"训练集：\",classifier.score(train_data,train_label))\n",
    "# print(\"测试集：\",classifier.score(test_data,test_label))"
   ]
  },
  {
   "cell_type": "code",
   "execution_count": 11,
   "metadata": {},
   "outputs": [],
   "source": [
    "# #也可直接调用accuracy_score方法计算准确率  \n",
    "# from sklearn.metrics import accuracy_score\n",
    "# tra_label = classifier.predict(train_data) # 训练集的预测标签\n",
    "# tes_label = classifier.predict(test_data) # 测试集的预测标签 \n",
    "# print(\"训练集：\",  accuracy_score(train_label,tra_label))\n",
    "# print(\"测试集：\", accuracy_score(test_label,tes_label))"
   ]
  },
  {
   "cell_type": "code",
   "execution_count": 12,
   "metadata": {},
   "outputs": [],
   "source": [
    "# #查看决策函数\n",
    "# print('train_decision_function:\\n',classifier.decision_function(train_data)) # (90,3)\n",
    "# print('predict_result:\\n',classifier.predict(train_data))"
   ]
  },
  {
   "cell_type": "code",
   "execution_count": 13,
   "metadata": {},
   "outputs": [
    {
     "data": {
      "text/plain": [
       "array([0.54285714, 0.75      , 0.64516129, 0.6       , 0.78571429,\n",
       "       0.62962963, 0.66666667])"
      ]
     },
     "execution_count": 13,
     "metadata": {},
     "output_type": "execute_result"
    }
   ],
   "source": [
    "from sklearn.model_selection import cross_val_score\n",
    "cross_val_score(classifier, train_data, train_label.ravel(), cv=7, scoring=\"accuracy\")"
   ]
  },
  {
   "cell_type": "code",
   "execution_count": 18,
   "metadata": {},
   "outputs": [],
   "source": [
    "from sklearn.model_selection import cross_val_predict \n",
    "svm_clf = svm.SVC(C=2, kernel='poly', degree=2, gamma='auto', decision_function_shape='ovo')\n",
    "train_data_pred = cross_val_predict(svm_clf, train_data, train_label.ravel(), cv=7)"
   ]
  },
  {
   "cell_type": "code",
   "execution_count": 20,
   "metadata": {},
   "outputs": [
    {
     "data": {
      "text/plain": [
       "array([[25,  0,  2,  3,  0,  1,  0,  0,  1,  0],\n",
       "       [ 1, 28,  0,  0,  0,  5,  1,  0,  2,  0],\n",
       "       [ 2,  0, 22,  0,  2,  0,  0,  0,  0,  0],\n",
       "       [ 0,  0,  1,  3,  0,  0,  1,  0,  0,  2],\n",
       "       [ 0,  4,  0,  0,  7,  2,  0,  0,  0,  1],\n",
       "       [ 0,  2,  0,  1,  2,  9,  2,  5,  1,  0],\n",
       "       [ 0,  1,  0,  2,  0,  0, 12,  1,  1,  0],\n",
       "       [ 1,  1,  0,  2,  1,  0,  2,  6,  1,  1],\n",
       "       [ 1,  3,  0,  0,  0,  1,  1,  0, 12,  0],\n",
       "       [ 1,  0,  1,  5,  0,  0,  0,  0,  1, 14]], dtype=int64)"
      ]
     },
     "execution_count": 20,
     "metadata": {},
     "output_type": "execute_result"
    }
   ],
   "source": [
    "from sklearn.metrics import confusion_matrix\n",
    "confusion_matrix(train_label.ravel(), train_data_pred)"
   ]
  },
  {
   "cell_type": "code",
   "execution_count": 24,
   "metadata": {},
   "outputs": [
    {
     "data": {
      "text/plain": [
       "array([[7, 0, 0, 0, 0, 0, 0, 0, 0, 1],\n",
       "       [0, 9, 0, 0, 0, 0, 0, 0, 0, 0],\n",
       "       [0, 0, 7, 0, 0, 0, 0, 0, 0, 0],\n",
       "       [1, 0, 0, 1, 0, 0, 0, 0, 0, 0],\n",
       "       [0, 0, 0, 0, 3, 0, 1, 0, 0, 0],\n",
       "       [0, 1, 1, 1, 0, 3, 0, 0, 0, 0],\n",
       "       [0, 1, 1, 0, 0, 0, 2, 0, 0, 0],\n",
       "       [0, 1, 0, 0, 0, 0, 0, 3, 0, 0],\n",
       "       [0, 0, 0, 0, 0, 0, 0, 1, 3, 0],\n",
       "       [1, 0, 1, 0, 0, 0, 0, 0, 0, 3]], dtype=int64)"
      ]
     },
     "execution_count": 24,
     "metadata": {},
     "output_type": "execute_result"
    }
   ],
   "source": [
    "# classifier.fit(train_data,train_label.ravel()) # ravel函数在降维时默认是行序优先\n",
    "# sklearn.model_selection.cross_validate()\n",
    "test_data_pred = classifier.predict(test_data)\n",
    "confusion_matrix(test_label.ravel(), test_data_pred)"
   ]
  },
  {
   "cell_type": "markdown",
   "metadata": {},
   "source": [
    "# precision & recall"
   ]
  },
  {
   "cell_type": "code",
   "execution_count": 25,
   "metadata": {},
   "outputs": [
    {
     "name": "stdout",
     "output_type": "stream",
     "text": [
      "              precision    recall  f1-score   support\n",
      "\n",
      "         0.0       0.78      0.88      0.82         8\n",
      "         1.0       0.75      1.00      0.86         9\n",
      "         2.0       0.70      1.00      0.82         7\n",
      "         3.0       0.50      0.50      0.50         2\n",
      "         4.0       1.00      0.75      0.86         4\n",
      "         5.0       1.00      0.50      0.67         6\n",
      "         6.0       0.67      0.50      0.57         4\n",
      "         7.0       0.75      0.75      0.75         4\n",
      "         8.0       1.00      0.75      0.86         4\n",
      "         9.0       0.75      0.60      0.67         5\n",
      "\n",
      "   micro avg       0.77      0.77      0.77        53\n",
      "   macro avg       0.79      0.72      0.74        53\n",
      "weighted avg       0.80      0.77      0.76        53\n",
      "\n"
     ]
    }
   ],
   "source": [
    "from sklearn.metrics import classification_report\n",
    "print(classification_report(test_label.ravel(), test_data_pred))\n",
    "# precision_score(test_label.ravel(), test_data_pred)\n",
    "# recall_score(test_label.ravel(), test_data_pred)"
   ]
  },
  {
   "cell_type": "code",
   "execution_count": 26,
   "metadata": {},
   "outputs": [
    {
     "name": "stdout",
     "output_type": "stream",
     "text": [
      "              precision    recall  f1-score   support\n",
      "\n",
      "         0.0       0.81      0.78      0.79        32\n",
      "         1.0       0.72      0.76      0.74        37\n",
      "         2.0       0.85      0.85      0.85        26\n",
      "         3.0       0.19      0.43      0.26         7\n",
      "         4.0       0.58      0.50      0.54        14\n",
      "         5.0       0.50      0.41      0.45        22\n",
      "         6.0       0.63      0.71      0.67        17\n",
      "         7.0       0.50      0.40      0.44        15\n",
      "         8.0       0.63      0.67      0.65        18\n",
      "         9.0       0.78      0.64      0.70        22\n",
      "\n",
      "   micro avg       0.66      0.66      0.66       210\n",
      "   macro avg       0.62      0.61      0.61       210\n",
      "weighted avg       0.67      0.66      0.66       210\n",
      "\n"
     ]
    }
   ],
   "source": [
    "print(classification_report(train_label.ravel(), train_data_pred))"
   ]
  },
  {
   "cell_type": "code",
   "execution_count": null,
   "metadata": {},
   "outputs": [],
   "source": []
  }
 ],
 "metadata": {
  "kernelspec": {
   "display_name": "python3.6",
   "language": "python",
   "name": "python3.6"
  },
  "language_info": {
   "codemirror_mode": {
    "name": "ipython",
    "version": 3
   },
   "file_extension": ".py",
   "mimetype": "text/x-python",
   "name": "python",
   "nbconvert_exporter": "python",
   "pygments_lexer": "ipython3",
   "version": "3.6.0"
  }
 },
 "nbformat": 4,
 "nbformat_minor": 2
}
