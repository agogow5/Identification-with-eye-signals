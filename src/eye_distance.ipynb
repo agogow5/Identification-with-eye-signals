{
 "cells": [
  {
   "cell_type": "code",
   "execution_count": 1,
   "metadata": {},
   "outputs": [],
   "source": [
    "import cv2  \n",
    "import numpy as np \n",
    "import matplotlib.pyplot as plt"
   ]
  },
  {
   "cell_type": "markdown",
   "metadata": {},
   "source": [
    "# File Path"
   ]
  },
  {
   "cell_type": "code",
   "execution_count": 2,
   "metadata": {},
   "outputs": [],
   "source": [
    "# img_path = '../raw_data/eye_pics/lena.jpg'\n",
    "img_path = '../raw_data/eye_pics/blink_pn003.png'\n",
    "img_path = '../raw_data/eyeMovement_test/em06/00897.png'\n",
    "fimg = cv2.imread(img_path)  #Canny只能处理灰度图，所以将读取的图像转成灰度图\n",
    "gimg = cv2.imread(img_path, 0)  #Canny只能处理灰度图，所以将读取的图像转成灰度图"
   ]
  },
  {
   "cell_type": "markdown",
   "metadata": {},
   "source": [
    "# Canny Edge Detection"
   ]
  },
  {
   "cell_type": "code",
   "execution_count": 3,
   "metadata": {},
   "outputs": [],
   "source": [
    "# fimg = cv2.imread(img_path)  #Canny只能处理灰度图，所以将读取的图像转成灰度图\n",
    "# gimg = cv2.imread(img_path, 0)  #Canny只能处理灰度图，所以将读取的图像转成灰度图\n",
    "# cv2.imshow('Original pic', fimg) \n",
    "# cv2.imshow('Gray pic', gimg)\n",
    "\n",
    "# img = cv2.GaussianBlur(gimg,(3,3),0) #高斯平滑处理原图像降噪 \n",
    "# canny = cv2.Canny(img, 50, 150)     #apertureSize默认为3\n",
    "# # canny = cv2.Canny(canny, 50, 150)     #apertureSize默认为3\n",
    "\n",
    "# cv2.imshow('Canny pic', canny)  \n",
    "# cv2.waitKey(0)  \n",
    "# cv2.destroyAllWindows()"
   ]
  },
  {
   "cell_type": "markdown",
   "metadata": {},
   "source": [
    "# Hough Transformation"
   ]
  },
  {
   "cell_type": "markdown",
   "metadata": {},
   "source": [
    "## 参数使用说明\n",
    "|参数名称|说明|\n",
    "|-|-|\n",
    "|image|输入图像，需要灰度图|\n",
    "|method|cv2.HOUGH_GRADIENT 也就是霍夫圆检测，梯度法|\n",
    "|dp| 计数器的分辨率图像像素分辨率与参数空间分辨率的比值（官方文档上写的是图像分辨率与累加器分辨率的比值，它把参数空间认为是一个累加器，毕竟里面存储的都是经过的像素点的数量），dp=1，则参数空间与图像像素空间（分辨率）一样大，dp=2，参数空间的分辨率只有像素空间的一半大|\n",
    "|minDist|圆心之间最小距离，如果距离太小，会产生很多相交的圆，如果距离太大，则会漏掉正确的圆|\n",
    "|param1|canny检测的双阈值中的高阈值，低阈值是它的一半|\n",
    "|param2|最小投票数（基于圆心的投票数）|\n",
    "|minRadius|需要检测院的最小半径|\n",
    "|maxRadius|需要检测院的最大半径|"
   ]
  },
  {
   "cell_type": "code",
   "execution_count": 4,
   "metadata": {},
   "outputs": [],
   "source": [
    "# img = canny.copy()\n",
    "# # img = gimg.copy()\n",
    "# #跳过 canny 直接送入 Hought Transform 会有问题\n",
    "\n",
    "# # img = dst.copy()\n",
    "# # cv2.imshow(\"Gray pic\", img)  \n",
    "# # img_path = '../raw_data/eye_pics/ts_eye.png'\n",
    "# # img = cv2.imread(img_path)\n",
    "# # img = cv2.cvtColor(img,cv2.COLOR_BGR2GRAY)#灰度图像 \n",
    "# # plt.subplot(121)\n",
    "# # plt.imshow(img,'gray')\n",
    "# #hough transform\n",
    "# circles1 = cv2.HoughCircles(img, cv2.HOUGH_GRADIENT, 1, 100, param1=100, param2=5, minRadius=20, maxRadius=50)\n",
    "# circles = circles1[0,:,:]#提取为二维\n",
    "# circles = np.uint16(np.around(circles))#四舍五入，取整\n",
    "# ht_img = fimg.copy()\n",
    "# for i in circles[:]: \n",
    "#     cv2.circle(ht_img,(i[0],i[1]),i[2],(255,0,255),1)#画圆\n",
    "#     cv2.circle(ht_img,(i[0],i[1]),2,(0,0,255),3)#画圆心\n",
    "\n",
    "# # plt.subplot(122),plt.imshow(img)\n",
    "# # plt.xticks([]),plt.yticks([])\n",
    "# cv2.imshow(\"Hough_Transform pic\", ht_img)\n",
    "# cv2.waitKey(0)\n",
    "# cv2.destroyAllWindows()"
   ]
  },
  {
   "cell_type": "code",
   "execution_count": 5,
   "metadata": {},
   "outputs": [],
   "source": [
    "# # x, y, radius\n",
    "# for i in circles[:]: \n",
    "#     print(i)\n"
   ]
  },
  {
   "cell_type": "code",
   "execution_count": 6,
   "metadata": {},
   "outputs": [],
   "source": [
    "import cv2  \n",
    "import numpy as np  \n",
    "from matplotlib import pyplot as plt  \n",
    "from PIL import Image\n",
    "  \n",
    "img=cv2.imread(img_path)  #读取图片，装换为可运算的数组\n",
    "GrayImage=cv2.cvtColor(img,cv2.COLOR_BGR2GRAY)   #将BGR图转为灰度图\n",
    "ret,thresh=cv2.threshold(GrayImage,2,255,cv2.THRESH_BINARY)  #将图片进行二值化（130,255）之间的点均变为255（背景）\n",
    "# print(thresh1[0,0])#250  输出[0,0]这个点的像素值  \t\t\t\t#返回值ret为阈值\n",
    "# print(ret)#130\n",
    "\n",
    "(h,w) = thresh.shape #返回高和宽\n",
    "half_w = w//2\n",
    "# print(h,w)#s输出高和宽"
   ]
  },
  {
   "cell_type": "markdown",
   "metadata": {},
   "source": [
    "# 垂直投影"
   ]
  },
  {
   "cell_type": "code",
   "execution_count": 7,
   "metadata": {},
   "outputs": [],
   "source": [
    "a = [0 for z in range(0, w)] \n",
    "# print(a) #a = [0,0,0,0,0,0,0,0,0,0,...,0,0]初始化一个长度为w的数组，用于记录每一列的黑点个数  \n",
    "\n",
    "thresh1 = thresh.copy() \n",
    "#记录每一列的波峰\n",
    "for j in range(0,w): #遍历一列 \n",
    "    for i in range(0,h):  #遍历一行\n",
    "        if  thresh1[i,j] == 255:  #如果为白点\n",
    "            a[j]+=1  \t\t#该列的计数器加一计数\n",
    "            thresh1[i,j]=0  #记录完后将其变为黑色 \n",
    "            \n",
    "    \n",
    "for j  in range(0,w):  #遍历每一列\n",
    "    for i in range(a[j]):  #从最顶部的点开始向最底部涂白\n",
    "        thresh1[i,j] = 255   #涂白\n",
    " \n",
    "#此时的thresh1便是一张图像向垂直方向上投影的直方图\n",
    "#如果要分割字符的话，其实并不需要把这张图给画出来，只需要的到a=[]即可得到想要的信息\n",
    "# cv2.waitKey(0)  \n",
    "# cv2.destroyAllWindows()  "
   ]
  },
  {
   "cell_type": "markdown",
   "metadata": {},
   "source": [
    "# 水平投影"
   ]
  },
  {
   "cell_type": "code",
   "execution_count": 8,
   "metadata": {},
   "outputs": [],
   "source": [
    "thresh2 = thresh.copy() \n",
    "bl = [0 for z in range(0, h)]\n",
    "br = [0 for z in range(0, h)] \n",
    "# print(a) \n",
    " \n",
    "for j in range(0,h):  \n",
    "    for i in range(0,w):  \n",
    "        if  thresh2[j,i]==255:\n",
    "            if i < half_w:\n",
    "                bl[j]+=1\n",
    "            else:\n",
    "                br[j]+=1\n",
    "            thresh2[j,i]=0\n",
    "\n",
    "for j  in range(0,h):  \n",
    "    for i in range(0,bl[j]):\n",
    "        thresh2[j,i] = 255\n",
    "    for i in range(0,br[j]):\n",
    "        thresh2[j,w - 1 - i] = 255\n",
    "\n",
    "# plt.imshow(thresh1,cmap=plt.gray())\n",
    "# plt.show()"
   ]
  },
  {
   "cell_type": "markdown",
   "metadata": {},
   "source": [
    "# 可视化"
   ]
  },
  {
   "cell_type": "code",
   "execution_count": 9,
   "metadata": {},
   "outputs": [],
   "source": [
    "# cv2.imshow('thresh',thresh) \n",
    "# cv2.imshow('thresh1',thresh1)  \n",
    "# cv2.imshow('thresh2',thresh2) \n",
    "# cv2.waitKey(0)  \n",
    "# cv2.destroyAllWindows()  "
   ]
  },
  {
   "cell_type": "code",
   "execution_count": 10,
   "metadata": {},
   "outputs": [
    {
     "name": "stdout",
     "output_type": "stream",
     "text": [
      "a max pos 68\n",
      "bl max pos 131\n",
      "br max pos 125\n"
     ]
    }
   ],
   "source": [
    "print(\"a max pos\", a.index(max(a)))\n",
    "print(\"bl max pos\", bl.index(max(bl)))\n",
    "print(\"br max pos\", br.index(max(br)))"
   ]
  },
  {
   "cell_type": "code",
   "execution_count": 11,
   "metadata": {},
   "outputs": [],
   "source": [
    "hl_max = bl.index(max(bl))\n",
    "hr_max = br.index(max(br))\n",
    "al = a[:w//2]\n",
    "ar = a[w//2:]\n",
    "vl_max = a.index(max(al))\n",
    "vr_max = a.index(max(ar), w//2,)"
   ]
  },
  {
   "cell_type": "code",
   "execution_count": 12,
   "metadata": {
    "code_folding": []
   },
   "outputs": [],
   "source": [
    "trh = 1\n",
    "# lu\n",
    "cnt = hl_max\n",
    "for i in bl[hl_max::-1]:\n",
    "    if i < trh:\n",
    "        lu = cnt\n",
    "        break\n",
    "    cnt = cnt - 1\n",
    "    \n",
    "# ld\n",
    "cnt = hl_max\n",
    "for i in bl[hl_max::]:\n",
    "    if i < trh:\n",
    "        ld = cnt\n",
    "        break\n",
    "    cnt = cnt + 1\n",
    "\n",
    "# ru\n",
    "cnt = hr_max\n",
    "for i in br[hr_max::-1]:\n",
    "    if i < trh:\n",
    "        ru = cnt\n",
    "        break\n",
    "    cnt = cnt - 1\n",
    "\n",
    "# rd\n",
    "cnt = hr_max\n",
    "for i in br[hr_max::]:\n",
    "    if i < trh:\n",
    "        rd = cnt\n",
    "        break\n",
    "    cnt = cnt + 1\n",
    "\n",
    "# ll\n",
    "cnt = vl_max\n",
    "for i in a[vl_max::-1]:\n",
    "    if i < trh:\n",
    "        ll = cnt\n",
    "        break\n",
    "    cnt = cnt - 1\n",
    "    \n",
    "# lr\n",
    "cnt = vl_max\n",
    "for i in a[vl_max::]:\n",
    "    if i < trh:\n",
    "        lr = cnt\n",
    "        break\n",
    "    cnt = cnt + 1\n",
    "\n",
    "# rl\n",
    "cnt = vr_max\n",
    "for i in a[vr_max::-1]:\n",
    "    if i < trh:\n",
    "        rl = cnt\n",
    "        break\n",
    "    cnt = cnt - 1\n",
    "\n",
    "# rr\n",
    "cnt = vr_max\n",
    "for i in a[vr_max::]:\n",
    "    if i < trh:\n",
    "        rr = cnt\n",
    "        break\n",
    "    cnt = cnt + 1"
   ]
  },
  {
   "cell_type": "code",
   "execution_count": 13,
   "metadata": {},
   "outputs": [
    {
     "data": {
      "text/plain": [
       "array([[[0, 0, 0],\n",
       "        [0, 0, 0],\n",
       "        [0, 0, 0],\n",
       "        ...,\n",
       "        [0, 0, 0],\n",
       "        [0, 0, 0],\n",
       "        [0, 0, 0]],\n",
       "\n",
       "       [[0, 0, 0],\n",
       "        [0, 0, 0],\n",
       "        [0, 0, 0],\n",
       "        ...,\n",
       "        [0, 0, 0],\n",
       "        [0, 0, 0],\n",
       "        [0, 0, 0]],\n",
       "\n",
       "       [[0, 0, 0],\n",
       "        [0, 0, 0],\n",
       "        [0, 0, 0],\n",
       "        ...,\n",
       "        [0, 0, 0],\n",
       "        [0, 0, 0],\n",
       "        [0, 0, 0]],\n",
       "\n",
       "       ...,\n",
       "\n",
       "       [[0, 0, 0],\n",
       "        [0, 0, 0],\n",
       "        [0, 0, 0],\n",
       "        ...,\n",
       "        [0, 0, 0],\n",
       "        [0, 0, 0],\n",
       "        [0, 0, 0]],\n",
       "\n",
       "       [[0, 0, 0],\n",
       "        [0, 0, 0],\n",
       "        [0, 0, 0],\n",
       "        ...,\n",
       "        [0, 0, 0],\n",
       "        [0, 0, 0],\n",
       "        [0, 0, 0]],\n",
       "\n",
       "       [[0, 0, 0],\n",
       "        [0, 0, 0],\n",
       "        [0, 0, 0],\n",
       "        ...,\n",
       "        [0, 0, 0],\n",
       "        [0, 0, 0],\n",
       "        [0, 0, 0]]], dtype=uint8)"
      ]
     },
     "execution_count": 13,
     "metadata": {},
     "output_type": "execute_result"
    }
   ],
   "source": [
    "img = fimg.copy()\n",
    "cv2.rectangle(img, (ll,lu), (lr,ld), (0,0,255), 1)\n",
    "cv2.rectangle(img, (rl,ru), (rr,rd), (0,255,255), 1)\n",
    "# cv2.imshow('img',img) \n",
    "# cv2.waitKey(0)  \n",
    "# cv2.destroyAllWindows()  "
   ]
  },
  {
   "cell_type": "code",
   "execution_count": 14,
   "metadata": {},
   "outputs": [],
   "source": [
    "cv2.imshow('thresh',thresh) \n",
    "cv2.imshow('thresh1',thresh1)  \n",
    "cv2.imshow('thresh2',thresh2) \n",
    "cv2.imshow('img',img) \n",
    "cv2.waitKey(0)  \n",
    "cv2.destroyAllWindows()  "
   ]
  },
  {
   "cell_type": "code",
   "execution_count": 15,
   "metadata": {},
   "outputs": [],
   "source": [
    "# #读入图像并转化为float类型，用于传递给harris函数\n",
    "# # filename = 'Dirk.jpg'\n",
    " \n",
    "# # img = cv2.imread(filename)\n",
    " \n",
    "# gray_img = gimg.copy()\n",
    "# # cv2.imshow('show1', gray_img)\n",
    "# # cv2.waitKey(0)  \n",
    "# # cv2.destroyAllWindows()\n",
    "# gray_img = np.float32(gray_img)\n",
    "# gray_img = cv2.GaussianBlur(gray_img,(3,3),0) #高斯平滑处理原图像降噪 \n",
    "# #对图像执行harris\n",
    "# dst = cv2.cornerHarris(gray_img, 2, 3, 0.04)\n",
    " \n",
    "# #腐蚀harris结果\n",
    "# dst = cv2.dilate(dst, None)\n",
    " \n",
    "# # 设置阈值\n",
    "# thres = 0.01*dst.max()\n",
    "\n",
    "# fimg_ = fimg.copy() \n",
    " \n",
    "# fimg_[dst > thres] = [0,0,255]\n",
    "# # img[dst>0.01*dst.max()]=[0,0,255]\n",
    "\n",
    "# # dst = cv2.cornerHarris(gray_img,2,3,0.04)\n",
    "# # dst = cv2.dilate(dst,None)\n",
    "# # ret, dst = cv2.threshold(dst,0.01*dst.max(),255,3)\n",
    "# # dst = np.uint8(dst)\n",
    " \n",
    "# cv2.imshow('show', fimg_)\n",
    "# cv2.waitKey(0)  \n",
    "# cv2.destroyAllWindows()"
   ]
  },
  {
   "cell_type": "code",
   "execution_count": null,
   "metadata": {},
   "outputs": [],
   "source": []
  }
 ],
 "metadata": {
  "kernelspec": {
   "display_name": "python3.6",
   "language": "python",
   "name": "python3.6"
  },
  "language_info": {
   "codemirror_mode": {
    "name": "ipython",
    "version": 3
   },
   "file_extension": ".py",
   "mimetype": "text/x-python",
   "name": "python",
   "nbconvert_exporter": "python",
   "pygments_lexer": "ipython3",
   "version": "3.6.0"
  }
 },
 "nbformat": 4,
 "nbformat_minor": 2
}
