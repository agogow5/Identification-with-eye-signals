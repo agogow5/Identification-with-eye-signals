{
 "cells": [
  {
   "cell_type": "code",
   "execution_count": 1,
   "metadata": {},
   "outputs": [],
   "source": [
    "from sklearn import svm\n",
    "import numpy as np\n",
    "import matplotlib.pyplot as plt\n",
    "import matplotlib\n",
    "import sklearn\n",
    "from sklearn.model_selection import train_test_split\n",
    "import pandas as pd\n",
    "import os\n",
    "import random"
   ]
  },
  {
   "cell_type": "code",
   "execution_count": 2,
   "metadata": {},
   "outputs": [],
   "source": [
    "#define converts(字典)  \n",
    "# def Name_label(s):\n",
    "#     it = {b'cjn':10, b'lmx':20, b'yxd':30, b'zzy':40 }\n",
    "#     return it[s]\n",
    "\n",
    "def Name_label(s):\n",
    "    return int(s) - 1"
   ]
  },
  {
   "cell_type": "code",
   "execution_count": 3,
   "metadata": {},
   "outputs": [
    {
     "name": "stdout",
     "output_type": "stream",
     "text": [
      "importing Jupyter notebook from utils.ipynb\n",
      "加载数据完毕！\n",
      "data shape:  (263, 25)\n"
     ]
    }
   ],
   "source": [
    "#1.读取数据集\n",
    "import import_ipynb # 为了import ipynb文件特地安装的库\n",
    "from utils import svm_data_gen\n",
    "name = \"dynamic_feature-2-26\" # 更换不同数据只需要修改name的参数即可，其它变量无需改动\n",
    "data_name = name + \".data\"\n",
    "data_path = '../gen_data/' + data_name\n",
    "filePath = '../raw_data/' + name + '/'\n",
    "\n",
    "try:\n",
    "    data = np.loadtxt(data_path, dtype=float, delimiter=',', converters={24:Name_label})\n",
    "#     converters={4:Iris_label}中“24”指的是第25列：将第25列的str转化为label(number)\n",
    "except IOError as err:  #使用as将异常对象，并将其赋值给一个标识符\n",
    "    print('File Error:'+str(err)) #‘+’用于字符串直接的连接\n",
    "    print(\"正在从csv生成.data数据中\")\n",
    "    \n",
    "    # 从csv数据转换成.data的txt数据\n",
    "    svm_data_gen(filePath, data_name)\n",
    "    data = np.loadtxt(data_path, dtype=float, delimiter=',', converters={24:Name_label})\n",
    "    print(\"生成数据完毕！\")\n",
    "\n",
    "print(\"加载数据完毕！\")\n",
    "print(\"data shape: \", data.shape)"
   ]
  },
  {
   "cell_type": "code",
   "execution_count": 4,
   "metadata": {},
   "outputs": [],
   "source": [
    "# PCA 降维处理  可选\n",
    "# 训练集： 1.0\n",
    "# 测试集： 0.538461538461538\n",
    "# 使用PCA的时候，需要修改下面划分数据与标签\n",
    "\n",
    "# from sklearn.decomposition import PCA\n",
    "# pca = PCA(n_components='mle') # 降维由算法自选\n",
    "# label_data = data[:, -1:]\n",
    "# print(\"label_data shape: \", label_data.shape)\n",
    "# data = data[:, :-1]\n",
    "# data = pca.fit_transform(data)\n",
    "# print(\"data shape: \", data.shape)\n",
    "# data = np.concatenate((data, label_data), axis=1)\n",
    "# print(\"pca data shape: \", data.shape)"
   ]
  },
  {
   "cell_type": "code",
   "execution_count": 5,
   "metadata": {},
   "outputs": [
    {
     "name": "stdout",
     "output_type": "stream",
     "text": [
      "data size:  (263, 24)\n",
      "train data sgape:  (210, 24)\n"
     ]
    }
   ],
   "source": [
    "#2.划分数据与标签\n",
    "x, y = np.split(data,indices_or_sections=(24,),axis=1) #x为数据，y为标签  前24个为特征，最后一个为标签\n",
    "# x = x[:, ::3] # 只取8个特征， 目前效果看起来与24个特征差不多\n",
    "print(\"data size: \", x.shape)\n",
    "random.seed(42) # 指定随机数种子，确保每次划分结果一致\n",
    "train_data,test_data,train_label,test_label = train_test_split(x, y, random_state=1, train_size=0.8, test_size=0.2) #sklearn.model_selection.  \n",
    "print(\"train data sgape: \", train_data.shape)"
   ]
  },
  {
   "cell_type": "code",
   "execution_count": 6,
   "metadata": {},
   "outputs": [
    {
     "data": {
      "text/plain": [
       "SVC(C=3, cache_size=200, class_weight=None, coef0=0.0,\n",
       "  decision_function_shape='ovo', degree=2, gamma='auto', kernel='poly',\n",
       "  max_iter=-1, probability=False, random_state=None, shrinking=True,\n",
       "  tol=0.001, verbose=False)"
      ]
     },
     "execution_count": 6,
     "metadata": {},
     "output_type": "execute_result"
    }
   ],
   "source": [
    "#3.训练svm分类器\n",
    "# ==========F:1\n",
    "# 训练 1.0\n",
    "# 测试 0.69\n",
    "# classifier = svm.SVC(C=2, kernel='rbf', gamma=10, decision_function_shape='ovo') # ovr:一对多策略  尽量使用ovo比较好\n",
    "# classifier.fit(train_data,train_label.ravel()) # ravel函数在降维时默认是行序优先\n",
    "\n",
    "# ==========F:2\n",
    "# 训练 1.0\n",
    "# 测试 0.76\n",
    "classifier = svm.SVC(C=3, kernel='poly', degree=2, gamma='auto', decision_function_shape='ovo') # ovr:一对多策略  尽量使用ovo比较好\n",
    "classifier.fit(train_data,train_label.ravel()) # ravel函数在降维时默认是行序优先"
   ]
  },
  {
   "cell_type": "code",
   "execution_count": 7,
   "metadata": {},
   "outputs": [
    {
     "name": "stdout",
     "output_type": "stream",
     "text": [
      "训练集： 1.0\n",
      "测试集： 0.7924528301886793\n"
     ]
    }
   ],
   "source": [
    "#4.计算svc分类器的准确率  \n",
    "print(\"训练集：\",classifier.score(train_data,train_label))\n",
    "print(\"测试集：\",classifier.score(test_data,test_label))"
   ]
  },
  {
   "cell_type": "code",
   "execution_count": 8,
   "metadata": {},
   "outputs": [
    {
     "name": "stdout",
     "output_type": "stream",
     "text": [
      "训练集： 1.0\n",
      "测试集： 0.7924528301886793\n"
     ]
    }
   ],
   "source": [
    "#也可直接调用accuracy_score方法计算准确率  \n",
    "from sklearn.metrics import accuracy_score\n",
    "tra_label = classifier.predict(train_data) # 训练集的预测标签\n",
    "tes_label = classifier.predict(test_data) # 测试集的预测标签 \n",
    "print(\"训练集：\",  accuracy_score(train_label,tra_label))\n",
    "print(\"测试集：\", accuracy_score(test_label,tes_label))"
   ]
  },
  {
   "cell_type": "code",
   "execution_count": 9,
   "metadata": {},
   "outputs": [
    {
     "name": "stdout",
     "output_type": "stream",
     "text": [
      "train_decision_function:\n",
      " [[-2.37237100e-03  5.17760761e+00  1.63494118e+00 ... -3.00257223e+00\n",
      "   2.51006495e+00  1.37304888e+00]\n",
      " [ 5.60742926e+01 -4.05093695e+01 -1.76930327e+01 ...  4.68308994e+01\n",
      "  -1.92096419e+01 -8.35837377e+01]\n",
      " [ 1.99566181e+00  2.21138119e+00  1.61235062e+00 ... -4.93699669e-01\n",
      "  -2.19797350e+00 -1.95684095e+00]\n",
      " ...\n",
      " [-4.80056560e+00  1.02828395e+00  3.18155001e+00 ...  4.30676013e-01\n",
      "   4.83531232e-01  5.22438453e+00]\n",
      " [ 3.39539444e+00 -6.14045700e+00 -4.13785082e+00 ...  1.91991517e+00\n",
      "   1.33306468e+00  2.57435788e-01]\n",
      " [ 1.67515500e+00  1.48275620e+01  3.38137021e+00 ... -8.15557262e+00\n",
      "  -8.21244973e-01  9.91644669e+00]]\n",
      "predict_result:\n",
      " [6. 6. 0. 1. 8. 0. 5. 5. 0. 0. 7. 0. 0. 5. 2. 1. 8. 0. 0. 4. 3. 9. 6. 9.\n",
      " 1. 8. 1. 5. 2. 2. 5. 8. 2. 9. 2. 3. 4. 3. 2. 1. 0. 4. 8. 0. 1. 9. 7. 9.\n",
      " 7. 5. 1. 9. 8. 2. 8. 5. 2. 3. 9. 0. 0. 5. 5. 9. 4. 8. 9. 1. 7. 6. 1. 6.\n",
      " 9. 8. 1. 2. 1. 5. 1. 8. 1. 7. 5. 1. 2. 4. 5. 0. 8. 5. 9. 5. 1. 0. 6. 8.\n",
      " 8. 5. 1. 4. 7. 6. 6. 0. 6. 0. 7. 6. 1. 2. 9. 3. 4. 9. 1. 1. 5. 1. 2. 5.\n",
      " 0. 4. 0. 2. 4. 1. 6. 4. 4. 1. 2. 0. 2. 0. 7. 1. 3. 6. 2. 1. 8. 9. 0. 9.\n",
      " 6. 1. 1. 9. 0. 1. 9. 0. 5. 0. 7. 9. 3. 5. 2. 8. 0. 5. 2. 5. 2. 7. 6. 0.\n",
      " 6. 9. 2. 0. 9. 0. 9. 9. 0. 2. 2. 1. 1. 7. 7. 8. 6. 1. 9. 2. 4. 4. 7. 2.\n",
      " 6. 3. 1. 0. 5. 0. 2. 7. 1. 6. 2. 2. 2. 6. 8. 1. 7. 0.]\n"
     ]
    }
   ],
   "source": [
    "#查看决策函数\n",
    "print('train_decision_function:\\n',classifier.decision_function(train_data)) # (90,3)\n",
    "print('predict_result:\\n',classifier.predict(train_data))"
   ]
  },
  {
   "cell_type": "code",
   "execution_count": null,
   "metadata": {},
   "outputs": [],
   "source": []
  }
 ],
 "metadata": {
  "kernelspec": {
   "display_name": "python3.6",
   "language": "python",
   "name": "python3.6"
  },
  "language_info": {
   "codemirror_mode": {
    "name": "ipython",
    "version": 3
   },
   "file_extension": ".py",
   "mimetype": "text/x-python",
   "name": "python",
   "nbconvert_exporter": "python",
   "pygments_lexer": "ipython3",
   "version": "3.6.0"
  }
 },
 "nbformat": 4,
 "nbformat_minor": 2
}
