{
 "cells": [
  {
   "cell_type": "code",
   "execution_count": 1,
   "metadata": {},
   "outputs": [],
   "source": [
    "import tensorflow as tf\n",
    "import numpy as np\n",
    "from sklearn.model_selection import train_test_split\n",
    "from sklearn.preprocessing import OneHotEncoder\n",
    "import matplotlib.pyplot as plt"
   ]
  },
  {
   "cell_type": "code",
   "execution_count": 2,
   "metadata": {},
   "outputs": [],
   "source": [
    "# 参数设置\n",
    "LEARNING_RATE = 1e-5\n",
    "INPUT_NODE = 24\n",
    "OUTPUT_NODE = 3\n",
    "\n",
    "LAYER_NODE = [5, 10]\n",
    "BATCH_SIZE = 30\n",
    "MAX_EPOCH = 1000000\n",
    "MODE_NUM = MAX_EPOCH / 100"
   ]
  },
  {
   "cell_type": "code",
   "execution_count": 3,
   "metadata": {},
   "outputs": [],
   "source": [
    "#define converts(字典)  \n",
    "def Name_label(s):\n",
    "#     it = {b'cjn':0, b'lmx':1, b'yxd':2, b'zzy':3 }\n",
    "#     return it[s]\n",
    "    return int(s) - 1"
   ]
  },
  {
   "cell_type": "code",
   "execution_count": 4,
   "metadata": {},
   "outputs": [],
   "source": [
    "def weight_variable(shape):\n",
    "    initial = tf.truncated_normal(shape, stddev=0.01)\n",
    "    return tf.Variable(initial)\n",
    "\n",
    "def bias_variable(shape):\n",
    "    initial = tf.constant(0.01, shape=shape)\n",
    "    return tf.Variable(initial)\n",
    "\n",
    "\n",
    "def createNetwork():\n",
    "#     定义神经网络的参数和偏置\n",
    "    w_fc1 = weight_variable([INPUT_NODE, LAYER_NODE[0]])\n",
    "    b_fc1 = bias_variable([LAYER_NODE[0]])\n",
    "    \n",
    "    w_fc2 = weight_variable([LAYER_NODE[0], LAYER_NODE[1]])\n",
    "    b_fc2 = bias_variable([LAYER_NODE[1]])\n",
    "    \n",
    "    w_fc3 = weight_variable([LAYER_NODE[1], OUTPUT_NODE])\n",
    "    b_fc3 = bias_variable([OUTPUT_NODE])\n",
    "    \n",
    "#     输入层\n",
    "    s = tf.placeholder(\"float\", [None, INPUT_NODE])\n",
    "    \n",
    "#     隐藏层\n",
    "    fc1 = tf.nn.relu(tf.matmul(s, w_fc1) + b_fc1)\n",
    "    fc2 = tf.nn.relu(tf.matmul(fc1, w_fc2) + b_fc2)\n",
    "    readout = tf.nn.softmax(tf.matmul(fc2, w_fc3) + b_fc3)\n",
    "    \n",
    "    print(\"end of create network\")\n",
    "    return s, readout"
   ]
  },
  {
   "cell_type": "code",
   "execution_count": 11,
   "metadata": {},
   "outputs": [],
   "source": [
    "def trainNetwork(s, readout, sess, max_epoch=MAX_EPOCH, lr=LEARNING_RATE):\n",
    "    y_ = tf.placeholder(\"float\", [None, OUTPUT_NODE])\n",
    "    x = s\n",
    "    y = readout\n",
    "    \n",
    "#     cross_entropy = -tf.reduce_mean(y_*tf.log(y))\n",
    "#     避免因为出现 0*log(0) 导致的Nan\n",
    "    cross_entropy = -tf.reduce_mean(y_ * tf.log(tf.clip_by_value(y,1e-10,1.0)))\n",
    "    \n",
    "    \n",
    "    y_argmax = tf.argmax(input=y,axis=1)\n",
    "    y_argmax_ = tf.argmax(input=y_,axis=1)\n",
    "    \n",
    "    \n",
    "    eq_ = tf.equal(y_argmax, y_argmax_)\n",
    "    eq_ = tf.cast(eq_, dtype=tf.float32) # 这里不能为int\n",
    "    acc = tf.reduce_mean(eq_)\n",
    "    \n",
    "    \n",
    "    train_step = tf.train.AdamOptimizer(lr).minimize(cross_entropy)\n",
    "    \n",
    "    # 用于加载或保存网络参数\n",
    "    saver = tf.train.Saver(max_to_keep=3)\n",
    "    sess.run(tf.initialize_all_variables())\n",
    "    checkpoint = tf.train.get_checkpoint_state(\"saved_networks\")\n",
    "    if checkpoint and checkpoint.model_checkpoint_path:\n",
    "        saver.restore(sess, checkpoint.model_checkpoint_path)\n",
    "        print(\"Successfully loaded:\", checkpoint.model_checkpoint_path)\n",
    "    else:\n",
    "        print(\"Could not find old network weights\")\n",
    "        \n",
    "\n",
    "    data_path = '../gen_data/dynamic_feature-2-26.data'\n",
    "    data = np.loadtxt(data_path, dtype=float, delimiter=',', converters={24:Name_label})\n",
    "    # 划分数据与标签\n",
    "    total_data, total_label = np.split(data,indices_or_sections=(24,),axis=1) # 前24个为特征，最后一个为标签\n",
    "    \n",
    "    # 将标签转化成 one-hot形式\n",
    "    # 行向量转列向量\n",
    "    print(total_label)\n",
    "    total_label = np.array(total_label).reshape(len(total_label), -1)\n",
    "    enc = OneHotEncoder()\n",
    "    enc.fit(total_label)\n",
    "    total_label = enc.transform(total_label).toarray()\n",
    "    print(\"============\")\n",
    "    print(total_label)\n",
    "    print(\"one-hot shape:\", np.shape(total_label))\n",
    "    \n",
    "    \n",
    "    # 指定随机数种子，确保每次划分结果一致\n",
    "    train_data,test_data,train_label,test_label = train_test_split(total_data, total_label, random_state=42, \n",
    "                                                                   train_size=0.8, test_size=0.2) #sklearn.model_selection.\n",
    "    \n",
    "    training_epoch = 0\n",
    "    train_data_length = len(train_data)\n",
    "    print(\"train_data_length: \", train_data_length)\n",
    "    \n",
    "    acc_list =[]\n",
    "    while training_epoch <= max_epoch:\n",
    "        # 数据的选取\n",
    "        valid_indices = np.random.choice(train_data_length, [BATCH_SIZE], replace=False)\n",
    "        batch_train_data = train_data[valid_indices]\n",
    "        batch_train_label = train_label[valid_indices]\n",
    "        \n",
    "        loss, _ = sess.run([cross_entropy, train_step], feed_dict={s: batch_train_data, y_: batch_train_label})\n",
    "        \n",
    "        if training_epoch % MODE_NUM == 0:\n",
    "            acc_ = sess.run([acc,], feed_dict={s: test_data, y_: test_label})\n",
    "            acc_ = acc_[0]\n",
    "            print(\"epoch=%d, loss=%.5f, accuracy=%.5f\" % (training_epoch, loss, acc_))\n",
    "            acc_list.append(acc_)\n",
    "        \n",
    "#         每进行500次迭代，保留一下网络参数\n",
    "        if (training_epoch + 1) % 100000 == 0:\n",
    "            saver.save(sess, 'saved_networks/od', global_step=training_epoch)\n",
    "        \n",
    "        training_epoch += 1\n",
    "    \n",
    "    print(\"This time training has finished! Total training epoch are %d\" % (training_epoch - 1, ))\n",
    "    \n",
    "    return acc_list"
   ]
  },
  {
   "cell_type": "code",
   "execution_count": 6,
   "metadata": {},
   "outputs": [],
   "source": [
    "def predictNetwork():\n",
    "    a = 2"
   ]
  },
  {
   "cell_type": "code",
   "execution_count": 7,
   "metadata": {},
   "outputs": [],
   "source": [
    "def analyst_plot(lst, delta=101):\n",
    "#     训练过程中accuracy的变化过程\n",
    "    epoch = np.linspace(0, MAX_EPOCH, delta)\n",
    "    acc = np.array(lst)\n",
    "    \n",
    "    plt.plot(epoch, acc, color='red')\n",
    "    plt.ylabel(\"percentage\")\n",
    "    plt.xlabel(\"epoch\")\n",
    "    plt.title(\"accuracy\")\n",
    "#     plt.show()\n",
    "    plt.savefig(\"../myplot/mlp_acc.png\")  # 图像保存\n",
    "    plt.close()"
   ]
  },
  {
   "cell_type": "code",
   "execution_count": 12,
   "metadata": {},
   "outputs": [
    {
     "name": "stdout",
     "output_type": "stream",
     "text": [
      "end of create network\n"
     ]
    },
    {
     "name": "stderr",
     "output_type": "stream",
     "text": [
      "d:\\tfp36\\lib\\site-packages\\tensorflow\\python\\client\\session.py:1702: UserWarning: An interactive session is already active. This can cause out-of-memory errors in some cases. You must explicitly call `InteractiveSession.close()` to release resources held by the other session(s).\n",
      "  warnings.warn('An interactive session is already active. This can '\n"
     ]
    },
    {
     "name": "stdout",
     "output_type": "stream",
     "text": [
      "Could not find old network weights\n",
      "[[1. 0. 0. ... 0. 0. 0.]\n",
      " [1. 0. 0. ... 0. 0. 0.]\n",
      " [1. 0. 0. ... 0. 0. 0.]\n",
      " ...\n",
      " [0. 0. 0. ... 0. 1. 0.]\n",
      " [0. 0. 0. ... 0. 1. 0.]\n",
      " [0. 0. 0. ... 0. 1. 0.]]\n",
      "one-hot shape: (263, 10)\n",
      "train_data_length:  210\n"
     ]
    },
    {
     "name": "stderr",
     "output_type": "stream",
     "text": [
      "d:\\tfp36\\lib\\site-packages\\sklearn\\preprocessing\\_encoders.py:371: FutureWarning: The handling of integer data will change in version 0.22. Currently, the categories are determined based on the range [0, max(values)], while in the future they will be determined based on the unique values.\n",
      "If you want the future behaviour and silence this warning, you can specify \"categories='auto'\".\n",
      "In case you used a LabelEncoder before this OneHotEncoder to convert the categories to integers, then you can now use the OneHotEncoder directly.\n",
      "  warnings.warn(msg, FutureWarning)\n"
     ]
    },
    {
     "ename": "ValueError",
     "evalue": "Cannot feed value of shape (30, 10) for Tensor 'Placeholder_5:0', which has shape '(?, 3)'",
     "output_type": "error",
     "traceback": [
      "\u001b[1;31m---------------------------------------------------------------------------\u001b[0m",
      "\u001b[1;31mValueError\u001b[0m                                Traceback (most recent call last)",
      "\u001b[1;32m<ipython-input-12-c18f1e23014a>\u001b[0m in \u001b[0;36m<module>\u001b[1;34m\u001b[0m\n\u001b[0;32m      2\u001b[0m     \u001b[0ms\u001b[0m\u001b[1;33m,\u001b[0m \u001b[0mreadout\u001b[0m \u001b[1;33m=\u001b[0m \u001b[0mcreateNetwork\u001b[0m\u001b[1;33m(\u001b[0m\u001b[1;33m)\u001b[0m\u001b[1;33m\u001b[0m\u001b[0m\n\u001b[0;32m      3\u001b[0m     \u001b[0msess\u001b[0m \u001b[1;33m=\u001b[0m \u001b[0mtf\u001b[0m\u001b[1;33m.\u001b[0m\u001b[0mInteractiveSession\u001b[0m\u001b[1;33m(\u001b[0m\u001b[1;33m)\u001b[0m\u001b[1;33m\u001b[0m\u001b[0m\n\u001b[1;32m----> 4\u001b[1;33m     \u001b[0mmlst\u001b[0m \u001b[1;33m=\u001b[0m \u001b[0mtrainNetwork\u001b[0m\u001b[1;33m(\u001b[0m\u001b[0ms\u001b[0m\u001b[1;33m,\u001b[0m \u001b[0mreadout\u001b[0m\u001b[1;33m,\u001b[0m \u001b[0msess\u001b[0m\u001b[1;33m)\u001b[0m\u001b[1;33m\u001b[0m\u001b[0m\n\u001b[0m\u001b[0;32m      5\u001b[0m     \u001b[0manalyst_plot\u001b[0m\u001b[1;33m(\u001b[0m\u001b[0mmlst\u001b[0m\u001b[1;33m)\u001b[0m\u001b[1;33m\u001b[0m\u001b[0m\n",
      "\u001b[1;32m<ipython-input-11-8ae2f33fc4de>\u001b[0m in \u001b[0;36mtrainNetwork\u001b[1;34m(s, readout, sess, max_epoch, lr)\u001b[0m\n\u001b[0;32m     63\u001b[0m         \u001b[0mbatch_train_label\u001b[0m \u001b[1;33m=\u001b[0m \u001b[0mtrain_label\u001b[0m\u001b[1;33m[\u001b[0m\u001b[0mvalid_indices\u001b[0m\u001b[1;33m]\u001b[0m\u001b[1;33m\u001b[0m\u001b[0m\n\u001b[0;32m     64\u001b[0m \u001b[1;33m\u001b[0m\u001b[0m\n\u001b[1;32m---> 65\u001b[1;33m         \u001b[0mloss\u001b[0m\u001b[1;33m,\u001b[0m \u001b[0m_\u001b[0m \u001b[1;33m=\u001b[0m \u001b[0msess\u001b[0m\u001b[1;33m.\u001b[0m\u001b[0mrun\u001b[0m\u001b[1;33m(\u001b[0m\u001b[1;33m[\u001b[0m\u001b[0mcross_entropy\u001b[0m\u001b[1;33m,\u001b[0m \u001b[0mtrain_step\u001b[0m\u001b[1;33m]\u001b[0m\u001b[1;33m,\u001b[0m \u001b[0mfeed_dict\u001b[0m\u001b[1;33m=\u001b[0m\u001b[1;33m{\u001b[0m\u001b[0ms\u001b[0m\u001b[1;33m:\u001b[0m \u001b[0mbatch_train_data\u001b[0m\u001b[1;33m,\u001b[0m \u001b[0my_\u001b[0m\u001b[1;33m:\u001b[0m \u001b[0mbatch_train_label\u001b[0m\u001b[1;33m}\u001b[0m\u001b[1;33m)\u001b[0m\u001b[1;33m\u001b[0m\u001b[0m\n\u001b[0m\u001b[0;32m     66\u001b[0m \u001b[1;33m\u001b[0m\u001b[0m\n\u001b[0;32m     67\u001b[0m         \u001b[1;32mif\u001b[0m \u001b[0mtraining_epoch\u001b[0m \u001b[1;33m%\u001b[0m \u001b[0mMODE_NUM\u001b[0m \u001b[1;33m==\u001b[0m \u001b[1;36m0\u001b[0m\u001b[1;33m:\u001b[0m\u001b[1;33m\u001b[0m\u001b[0m\n",
      "\u001b[1;32md:\\tfp36\\lib\\site-packages\\tensorflow\\python\\client\\session.py\u001b[0m in \u001b[0;36mrun\u001b[1;34m(self, fetches, feed_dict, options, run_metadata)\u001b[0m\n\u001b[0;32m    927\u001b[0m     \u001b[1;32mtry\u001b[0m\u001b[1;33m:\u001b[0m\u001b[1;33m\u001b[0m\u001b[0m\n\u001b[0;32m    928\u001b[0m       result = self._run(None, fetches, feed_dict, options_ptr,\n\u001b[1;32m--> 929\u001b[1;33m                          run_metadata_ptr)\n\u001b[0m\u001b[0;32m    930\u001b[0m       \u001b[1;32mif\u001b[0m \u001b[0mrun_metadata\u001b[0m\u001b[1;33m:\u001b[0m\u001b[1;33m\u001b[0m\u001b[0m\n\u001b[0;32m    931\u001b[0m         \u001b[0mproto_data\u001b[0m \u001b[1;33m=\u001b[0m \u001b[0mtf_session\u001b[0m\u001b[1;33m.\u001b[0m\u001b[0mTF_GetBuffer\u001b[0m\u001b[1;33m(\u001b[0m\u001b[0mrun_metadata_ptr\u001b[0m\u001b[1;33m)\u001b[0m\u001b[1;33m\u001b[0m\u001b[0m\n",
      "\u001b[1;32md:\\tfp36\\lib\\site-packages\\tensorflow\\python\\client\\session.py\u001b[0m in \u001b[0;36m_run\u001b[1;34m(self, handle, fetches, feed_dict, options, run_metadata)\u001b[0m\n\u001b[0;32m   1126\u001b[0m                              \u001b[1;34m'which has shape %r'\u001b[0m \u001b[1;33m%\u001b[0m\u001b[1;33m\u001b[0m\u001b[0m\n\u001b[0;32m   1127\u001b[0m                              (np_val.shape, subfeed_t.name,\n\u001b[1;32m-> 1128\u001b[1;33m                               str(subfeed_t.get_shape())))\n\u001b[0m\u001b[0;32m   1129\u001b[0m           \u001b[1;32mif\u001b[0m \u001b[1;32mnot\u001b[0m \u001b[0mself\u001b[0m\u001b[1;33m.\u001b[0m\u001b[0mgraph\u001b[0m\u001b[1;33m.\u001b[0m\u001b[0mis_feedable\u001b[0m\u001b[1;33m(\u001b[0m\u001b[0msubfeed_t\u001b[0m\u001b[1;33m)\u001b[0m\u001b[1;33m:\u001b[0m\u001b[1;33m\u001b[0m\u001b[0m\n\u001b[0;32m   1130\u001b[0m             \u001b[1;32mraise\u001b[0m \u001b[0mValueError\u001b[0m\u001b[1;33m(\u001b[0m\u001b[1;34m'Tensor %s may not be fed.'\u001b[0m \u001b[1;33m%\u001b[0m \u001b[0msubfeed_t\u001b[0m\u001b[1;33m)\u001b[0m\u001b[1;33m\u001b[0m\u001b[0m\n",
      "\u001b[1;31mValueError\u001b[0m: Cannot feed value of shape (30, 10) for Tensor 'Placeholder_5:0', which has shape '(?, 3)'"
     ]
    }
   ],
   "source": [
    "if __name__ == \"__main__\":\n",
    "    s, readout = createNetwork()\n",
    "    sess = tf.InteractiveSession()\n",
    "    mlst = trainNetwork(s, readout, sess)\n",
    "    analyst_plot(mlst)"
   ]
  },
  {
   "cell_type": "code",
   "execution_count": null,
   "metadata": {},
   "outputs": [],
   "source": []
  }
 ],
 "metadata": {
  "kernelspec": {
   "display_name": "python3.6",
   "language": "python",
   "name": "python3.6"
  },
  "language_info": {
   "codemirror_mode": {
    "name": "ipython",
    "version": 3
   },
   "file_extension": ".py",
   "mimetype": "text/x-python",
   "name": "python",
   "nbconvert_exporter": "python",
   "pygments_lexer": "ipython3",
   "version": "3.6.0"
  }
 },
 "nbformat": 4,
 "nbformat_minor": 2
}
