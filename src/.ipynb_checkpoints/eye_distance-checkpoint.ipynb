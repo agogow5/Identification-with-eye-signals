{
 "cells": [
  {
   "cell_type": "code",
   "execution_count": 1,
   "metadata": {},
   "outputs": [],
   "source": [
    "import cv2  \n",
    "import numpy as np \n",
    "import matplotlib.pyplot as plt"
   ]
  },
  {
   "cell_type": "markdown",
   "metadata": {},
   "source": [
    "# File Path"
   ]
  },
  {
   "cell_type": "code",
   "execution_count": 2,
   "metadata": {},
   "outputs": [],
   "source": [
    "# img_path = '../raw_data/eye_pics/lena.jpg'\n",
    "img_path = '../raw_data/eye_pics/em_pn001.png'"
   ]
  },
  {
   "cell_type": "markdown",
   "metadata": {},
   "source": [
    "# Canny Edge Detection"
   ]
  },
  {
   "cell_type": "code",
   "execution_count": 3,
   "metadata": {},
   "outputs": [],
   "source": [
    "fimg = cv2.imread(img_path)  #Canny只能处理灰度图，所以将读取的图像转成灰度图\n",
    "gimg = cv2.imread(img_path, 0)  #Canny只能处理灰度图，所以将读取的图像转成灰度图\n",
    "cv2.imshow('Original pic', fimg) \n",
    "img = cv2.GaussianBlur(gimg,(3,3),0) #高斯平滑处理原图像降噪 \n",
    "canny = cv2.Canny(img, 50, 150)     #apertureSize默认为3\n",
    "  \n",
    "cv2.imshow('Canny pic', canny)  \n",
    "cv2.waitKey(0)  \n",
    "cv2.destroyAllWindows()"
   ]
  },
  {
   "cell_type": "markdown",
   "metadata": {},
   "source": [
    "# Sobel Edge Detection"
   ]
  },
  {
   "cell_type": "code",
   "execution_count": 4,
   "metadata": {},
   "outputs": [],
   "source": [
    "# img = cv2.imread(img_path, 0)  \n",
    "  \n",
    "# x = cv2.Sobel(img,cv2.CV_16S,1,0)  \n",
    "# y = cv2.Sobel(img,cv2.CV_16S,0,1)  \n",
    "  \n",
    "# absX = cv2.convertScaleAbs(x)   \n",
    "# absY = cv2.convertScaleAbs(y)  \n",
    "  \n",
    "# dst = cv2.addWeighted(absX,0.5,absY,0.5,0)\n",
    " \n",
    "# cv2.imshow(\"Orig\",img)  \n",
    "# cv2.imshow(\"absX\", absX)  \n",
    "# cv2.imshow(\"absY\", absY)  \n",
    "  \n",
    "# cv2.imshow(\"Result\", dst)  \n",
    "  \n",
    "# cv2.waitKey(0)  \n",
    "# cv2.destroyAllWindows() "
   ]
  },
  {
   "cell_type": "markdown",
   "metadata": {},
   "source": [
    "# Hough Transformation"
   ]
  },
  {
   "cell_type": "markdown",
   "metadata": {},
   "source": [
    "## 参数使用说明\n",
    "|参数名称|说明|\n",
    "|-|-|\n",
    "|image|输入图像，需要灰度图|\n",
    "|method|cv2.HOUGH_GRADIENT 也就是霍夫圆检测，梯度法|\n",
    "|dp| 计数器的分辨率图像像素分辨率与参数空间分辨率的比值（官方文档上写的是图像分辨率与累加器分辨率的比值，它把参数空间认为是一个累加器，毕竟里面存储的都是经过的像素点的数量），dp=1，则参数空间与图像像素空间（分辨率）一样大，dp=2，参数空间的分辨率只有像素空间的一半大|\n",
    "|minDist|圆心之间最小距离，如果距离太小，会产生很多相交的圆，如果距离太大，则会漏掉正确的圆|\n",
    "|param1|canny检测的双阈值中的高阈值，低阈值是它的一半|\n",
    "|param2|最小投票数（基于圆心的投票数）|\n",
    "|minRadius|需要检测院的最小半径|\n",
    "|maxRadius|需要检测院的最大半径|"
   ]
  },
  {
   "cell_type": "code",
   "execution_count": 5,
   "metadata": {},
   "outputs": [],
   "source": [
    "img = canny.copy()\n",
    "# img = gimg.copy()\n",
    "#跳过 canny 直接送入 Hought Transform 会有问题\n",
    "\n",
    "# img = dst.copy()\n",
    "# cv2.imshow(\"Gray pic\", img)  \n",
    "# img_path = '../raw_data/eye_pics/ts_eye.png'\n",
    "# img = cv2.imread(img_path)\n",
    "# img = cv2.cvtColor(img,cv2.COLOR_BGR2GRAY)#灰度图像 \n",
    "# plt.subplot(121)\n",
    "# plt.imshow(img,'gray')\n",
    "#hough transform\n",
    "circles1 = cv2.HoughCircles(img, cv2.HOUGH_GRADIENT, 1, 100, param1=100, param2=5, minRadius=20, maxRadius=50)\n",
    "circles = circles1[0,:,:]#提取为二维\n",
    "circles = np.uint16(np.around(circles))#四舍五入，取整\n",
    "ht_img = fimg.copy()\n",
    "for i in circles[:]: \n",
    "    cv2.circle(ht_img,(i[0],i[1]),i[2],(255,0,255),1)#画圆\n",
    "    cv2.circle(ht_img,(i[0],i[1]),2,(0,0,255),3)#画圆心\n",
    "\n",
    "# plt.subplot(122),plt.imshow(img)\n",
    "# plt.xticks([]),plt.yticks([])\n",
    "cv2.imshow(\"Hough_Transform pic\", ht_img)\n",
    "cv2.waitKey(0)\n",
    "cv2.destroyAllWindows()"
   ]
  },
  {
   "cell_type": "code",
   "execution_count": 6,
   "metadata": {},
   "outputs": [
    {
     "name": "stdout",
     "output_type": "stream",
     "text": [
      "[248 170  20]\n",
      "[ 82 192  21]\n"
     ]
    }
   ],
   "source": [
    "# x, y, radius\n",
    "for i in circles[:]: \n",
    "    print(i)\n"
   ]
  },
  {
   "cell_type": "code",
   "execution_count": null,
   "metadata": {},
   "outputs": [],
   "source": []
  }
 ],
 "metadata": {
  "kernelspec": {
   "display_name": "python3.6",
   "language": "python",
   "name": "python3.6"
  },
  "language_info": {
   "codemirror_mode": {
    "name": "ipython",
    "version": 3
   },
   "file_extension": ".py",
   "mimetype": "text/x-python",
   "name": "python",
   "nbconvert_exporter": "python",
   "pygments_lexer": "ipython3",
   "version": "3.6.0"
  }
 },
 "nbformat": 4,
 "nbformat_minor": 2
}
