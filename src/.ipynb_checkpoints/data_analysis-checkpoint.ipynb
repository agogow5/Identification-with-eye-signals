{
 "cells": [
  {
   "cell_type": "markdown",
   "metadata": {},
   "source": [
    "dynamic feature analysis"
   ]
  },
  {
   "cell_type": "code",
   "execution_count": null,
   "metadata": {},
   "outputs": [],
   "source": [
    "['A_pos_peak_time', 'MAX_pos_peak_time', 'MIN_pos_peak_time', 'A_neg_peak_time', 'MAX_neg_peak_time', 'MIN_neg_peak_time',\n",
    " 'A_close time', 'MAX_close time', 'MIN_close time', 'A_open time', 'MAX_open time', 'MIN_open time', 'A_blink time', \n",
    " 'MAX_blink time', 'MIN_blink time', 'A_peak ratio', 'MAX_peak ratio', 'MIN_peak ratio', 'A_peak dist ratio', 'MAX_peak dist ratio', \n",
    " 'MIN_peak dist ratio', 'A_area ratio', 'MAX_area ratio', 'MIN_area ratio']"
   ]
  },
  {
   "cell_type": "code",
   "execution_count": null,
   "metadata": {},
   "outputs": [],
   "source": []
  },
  {
   "cell_type": "code",
   "execution_count": null,
   "metadata": {},
   "outputs": [],
   "source": []
  }
 ],
 "metadata": {
  "kernelspec": {
   "display_name": "python3.6",
   "language": "python",
   "name": "python3.6"
  },
  "language_info": {
   "codemirror_mode": {
    "name": "ipython",
    "version": 3
   },
   "file_extension": ".py",
   "mimetype": "text/x-python",
   "name": "python",
   "nbconvert_exporter": "python",
   "pygments_lexer": "ipython3",
   "version": "3.6.0"
  }
 },
 "nbformat": 4,
 "nbformat_minor": 2
}
